{
  "cells": [
    {
      "cell_type": "code",
      "execution_count": null,
      "id": "9041b370",
      "metadata": {
        "id": "9041b370"
      },
      "outputs": [],
      "source": [
        "import os\n",
        "import numpy as np\n",
        "import csv"
      ]
    },
    {
      "cell_type": "markdown",
      "source": [
        "Read data"
      ],
      "metadata": {
        "id": "dvDE9h0brcgZ"
      },
      "id": "dvDE9h0brcgZ"
    },
    {
      "cell_type": "code",
      "execution_count": null,
      "id": "eebe39c5",
      "metadata": {
        "id": "eebe39c5"
      },
      "outputs": [],
      "source": [
        "def data_reader(path):\n",
        "    csv_reader = csv.reader(open(path, 'r'), delimiter=',')\n",
        "\n",
        "    # Skip header\n",
        "    data = []\n",
        "    for i,row in enumerate(csv_reader):\n",
        "        convert_list = []\n",
        "        for i, element in enumerate(row):\n",
        "            convert_list.append(str(element))\n",
        "        data.append(convert_list)\n",
        "    return data"
      ]
    },
    {
      "cell_type": "code",
      "execution_count": null,
      "id": "1640c7ab",
      "metadata": {
        "id": "1640c7ab"
      },
      "outputs": [],
      "source": [
        "list_transactions = None\n",
        " \n",
        "list_transactions = data_reader('groceries.csv')\n",
        "\n",
        "for i in range(len(list_transactions)):\n",
        "    list_transactions[i] = sorted(list_transactions[i])"
      ]
    },
    {
      "cell_type": "markdown",
      "source": [
        "Get all the distince item name"
      ],
      "metadata": {
        "id": "Decnlsnbrlk8"
      },
      "id": "Decnlsnbrlk8"
    },
    {
      "cell_type": "code",
      "execution_count": null,
      "id": "b77ce834",
      "metadata": {
        "id": "b77ce834"
      },
      "outputs": [],
      "source": [
        "list_items = None\n",
        "\n",
        "list_items = []\n",
        "for i in range(len(list_transactions)):\n",
        "    list_items = list_items + list_transactions[i]\n",
        "list_items = set(list_items)\n",
        "\n",
        "list_items = sorted(list_items)"
      ]
    },
    {
      "cell_type": "markdown",
      "id": "6957d87f",
      "metadata": {
        "id": "6957d87f"
      },
      "source": [
        "Find the trascations containt item x"
      ]
    },
    {
      "cell_type": "code",
      "execution_count": null,
      "id": "25163e9c",
      "metadata": {
        "id": "25163e9c"
      },
      "outputs": [],
      "source": [
        "def Find_Itemset_Cover(X, list_transactions):\n",
        "    list_transaction_cover = None\n",
        "    \n",
        "    list_transaction_cover = []\n",
        "    X = np.array(X)\n",
        "    X = np.ndarray.flatten(X)\n",
        "    X = sorted(X)\n",
        "    for i in range(len(list_transactions)):\n",
        "        cnt = 0\n",
        "        for j in range(len(X)):\n",
        "            for k in range(len(list_transactions[i])):\n",
        "                if (X[j] == list_transactions[i][k]):\n",
        "                    cnt += 1\n",
        "\n",
        "                if (cnt == len(X)):\n",
        "                     list_transaction_cover.append(i)\n",
        "                     break\n",
        "        \n",
        "            \n",
        "            \n",
        "    return list_transaction_cover"
      ]
    },
    {
      "cell_type": "markdown",
      "id": "f82b8040",
      "metadata": {
        "id": "f82b8040"
      },
      "source": [
        "Number of transactions contains X"
      ]
    },
    {
      "cell_type": "code",
      "execution_count": null,
      "id": "1ab32a14",
      "metadata": {
        "id": "1ab32a14"
      },
      "outputs": [],
      "source": [
        "def Cal_Absolute_Support(X, list_transactions):    \n",
        "    abs_support = None\n",
        "    \n",
        "    abs_support = len(Find_Itemset_Cover(X,list_transactions))\n",
        "    return abs_support"
      ]
    },
    {
      "cell_type": "markdown",
      "id": "bc27f8ad",
      "metadata": {
        "id": "bc27f8ad"
      },
      "source": [
        "Percentage of transactions contains item X"
      ]
    },
    {
      "cell_type": "code",
      "execution_count": null,
      "id": "2fa6e109",
      "metadata": {
        "id": "2fa6e109"
      },
      "outputs": [],
      "source": [
        "def Cal_Relative_Support(X, list_transactions): \n",
        "    relative_support = None\n",
        "    \n",
        "    Absolute = Cal_Absolute_Support(X, list_transactions)\n",
        "    transaction = len(list_transactions)\n",
        "    relative_support = round(Absolute / abs(transaction),4)\n",
        "    return relative_support"
      ]
    },
    {
      "cell_type": "markdown",
      "id": "d0b0b362",
      "metadata": {
        "id": "d0b0b362"
      },
      "source": [
        "Find all of the frequent item set containing item X"
      ]
    },
    {
      "cell_type": "code",
      "execution_count": null,
      "id": "1a00c315",
      "metadata": {
        "id": "1a00c315"
      },
      "outputs": [],
      "source": [
        "def Check_Frequent_Itemset(X, list_transactions, min_sup):\n",
        "    is_frequent = None\n",
        "    \n",
        "    Frequent = Cal_Relative_Support(X, list_transactions)\n",
        "    is_frequent = (Frequent >= min_sup)\n",
        "    return is_frequent"
      ]
    },
    {
      "cell_type": "markdown",
      "id": "e4d55ae3",
      "metadata": {
        "id": "e4d55ae3"
      },
      "source": [
        "Join item sets"
      ]
    },
    {
      "cell_type": "code",
      "execution_count": null,
      "id": "25f12f0e",
      "metadata": {
        "id": "25f12f0e"
      },
      "outputs": [],
      "source": [
        "def Check(x,y):\n",
        "    if (len(x) != len(y)):\n",
        "        return False\n",
        "\n",
        "    for i in range (len(x)):\n",
        "        if (x[i] != y[i]):\n",
        "            return False\n",
        "\n",
        "    return True"
      ]
    },
    {
      "cell_type": "code",
      "execution_count": null,
      "id": "90ed5a66",
      "metadata": {
        "id": "90ed5a66"
      },
      "outputs": [],
      "source": [
        "def Cal_Self_Join(itemset_1, itemset_2):\n",
        "    join_itemset = None\n",
        "    \n",
        "    size = min(len(itemset_1),len(itemset_2))\n",
        "    cnt = 0\n",
        "    \n",
        "    for i in range(size):\n",
        "        if (itemset_1[i] == itemset_2[i]):\n",
        "            cnt += 1\n",
        "    if (cnt != size - 1):\n",
        "        return []\n",
        "\n",
        "    itemset_1 = np.array(itemset_1)\n",
        "    itemset_2 = np.array(itemset_2)\n",
        "    join_itemset = np.concatenate((itemset_1, itemset_2))\n",
        "    join_itemset = set(join_itemset)\n",
        "    if (Check(join_itemset,itemset_1) or Check(join_itemset,itemset_2)):\n",
        "        join_itemset = []\n",
        "    return sorted(join_itemset)"
      ]
    },
    {
      "cell_type": "markdown",
      "id": "918c3bf5",
      "metadata": {
        "id": "918c3bf5"
      },
      "source": [
        "Prune the item sets which not met the requirment"
      ]
    },
    {
      "cell_type": "code",
      "execution_count": null,
      "id": "27af2750",
      "metadata": {
        "id": "27af2750"
      },
      "outputs": [],
      "source": [
        "def Prune_By_Apriori(list_candidate, list_previous_frequent_itemset):\n",
        "    new_list_candidate = None\n",
        "\n",
        "    new_list_candidate = []\n",
        "    for X in list_candidate:\n",
        "        cnt = 0\n",
        "        for i in range(1,len(list_previous_frequent_itemset)):\n",
        "            for j in range(i):\n",
        "                cnt += Check(X,Cal_Self_Join(list_previous_frequent_itemset[i],list_previous_frequent_itemset[j]))\n",
        "        if (cnt == len(X) - 1):\n",
        "            new_list_candidate.append(X)\n",
        "\n",
        "    return sorted(new_list_candidate)"
      ]
    },
    {
      "cell_type": "markdown",
      "id": "8c0eac39",
      "metadata": {
        "id": "8c0eac39"
      },
      "source": [
        "Frequent Itemset Mining with Apriori"
      ]
    },
    {
      "cell_type": "code",
      "execution_count": null,
      "id": "64d3e4fb",
      "metadata": {
        "id": "64d3e4fb"
      },
      "outputs": [],
      "source": [
        "def Frequent_Itemset_Mining_Apriori(list_transactions, list_items, min_sup):\n",
        "\n",
        "    \n",
        "    list_frequent_itemset = None\n",
        "    \n",
        "    N = 0\n",
        "    list_frequent_itemset = [[] for i in range(500)]\n",
        "\n",
        "    for i in range(len(list_items)):\n",
        "        if (Check_Frequent_Itemset(list_items[i],list_transactions,min_sup)):\n",
        "            list_frequent_itemset[N].append(list_items[i])\n",
        "            N += 1\n",
        "\n",
        "    item_size = len(list_items)\n",
        "    size = 1\n",
        "    start = 0\n",
        "    end = N\n",
        "    while (size < item_size):\n",
        "          cnt = 0\n",
        "          # print(1)\n",
        "          # print(list_frequent_itemset[start:end])\n",
        "          Current_itemsets = [[] for i in range(pow(2,N - 1))]\n",
        "\n",
        "          for i in range(start,end):\n",
        "                for j in range(start,i):\n",
        "                     Current_itemsets[cnt] = (Cal_Self_Join(list_frequent_itemset[i],list_frequent_itemset[j]))\n",
        "                     if (Current_itemsets[cnt] != []):\n",
        "                        cnt += 1\n",
        "\n",
        "          Unique = [0]\n",
        "          Current_itemsets = sorted(Current_itemsets[0:cnt])\n",
        "\n",
        "          for i in range(1,cnt):\n",
        "            if (Check(Current_itemsets[i],Current_itemsets[i - 1]) == False):\n",
        "                    Unique.append(i)\n",
        "\n",
        "          cnt = 0\n",
        "          New_Current_itemsets = [[] for i in range(len(Unique))]\n",
        "          for i in Unique:\n",
        "               New_Current_itemsets[cnt] = Current_itemsets[i]\n",
        "               cnt += 1\n",
        "          cnt -= 1\n",
        "\n",
        "          Current_itemsets = Prune_By_Apriori(New_Current_itemsets,list_frequent_itemset[start:end])\n",
        "          cnt = 0\n",
        "          M = N\n",
        "          \n",
        "\n",
        "          for i in range(len(New_Current_itemsets)):\n",
        "                if (Check_Frequent_Itemset(New_Current_itemsets[i],list_transactions,min_sup)):    \n",
        "                   list_frequent_itemset[N] = (New_Current_itemsets[i])        \n",
        "                   N += 1\n",
        "          # print(2)\n",
        "          # print(New_Current_itemsets)\n",
        "          \n",
        "          start = end\n",
        "          end = N\n",
        "          size += 1\n",
        "          if (N == M):\n",
        "             # print(N,M)\n",
        "             return list_frequent_itemset[0:N]\n",
        "    # print(size)\n",
        "    return list_frequent_itemset[0:N]"
      ]
    },
    {
      "cell_type": "markdown",
      "id": "570304ed",
      "metadata": {
        "id": "570304ed"
      },
      "source": [
        "Test on the database"
      ]
    },
    {
      "cell_type": "code",
      "execution_count": null,
      "id": "4bbaa1a4",
      "metadata": {
        "id": "4bbaa1a4"
      },
      "outputs": [],
      "source": [
        "assert len(list_transactions) == 9835\n",
        "\n",
        "assert list_items == sorted(list((set(list_items))))\n",
        "assert len(list_items) == 169"
      ]
    },
    {
      "cell_type": "code",
      "execution_count": null,
      "id": "19b2d344",
      "metadata": {
        "id": "19b2d344",
        "outputId": "e7a78341-55c8-48dd-c06f-b0e3a87166b8"
      },
      "outputs": [
        {
          "name": "stdout",
          "output_type": "stream",
          "text": [
            "[['bottled water'], ['other vegetables'], ['rolls/buns'], ['root vegetables'], ['soda'], ['tropical fruit'], ['whole milk'], ['yogurt']]\n"
          ]
        }
      ],
      "source": [
        "# Test on our dataset\n",
        "min_support = 0.1\n",
        "\n",
        "list_fim = Frequent_Itemset_Mining_Apriori(list_transactions, list_items, min_support)\n",
        "\n",
        "print(list_fim)"
      ]
    },
    {
      "cell_type": "code",
      "execution_count": null,
      "id": "5ca0a1fd",
      "metadata": {
        "id": "5ca0a1fd",
        "outputId": "b0218e84-30b1-4092-bb7b-6f4b792d9abb"
      },
      "outputs": [
        {
          "name": "stdout",
          "output_type": "stream",
          "text": [
            "[['bottled beer'], ['bottled water'], ['citrus fruit'], ['other vegetables'], ['pastry'], ['rolls/buns'], ['root vegetables'], ['sausage'], ['shopping bags'], ['soda'], ['tropical fruit'], ['whole milk'], ['yogurt']]\n"
          ]
        }
      ],
      "source": [
        "min_support = 0.08\n",
        "\n",
        "list_fim = Frequent_Itemset_Mining_Apriori(list_transactions, list_items, min_support)\n",
        "\n",
        "print(list_fim)"
      ]
    }
  ],
  "metadata": {
    "kernelspec": {
      "display_name": "Python 3.9.12 ('base')",
      "language": "python",
      "name": "python3"
    },
    "language_info": {
      "codemirror_mode": {
        "name": "ipython",
        "version": 3
      },
      "file_extension": ".py",
      "mimetype": "text/x-python",
      "name": "python",
      "nbconvert_exporter": "python",
      "pygments_lexer": "ipython3",
      "version": "3.9.12"
    },
    "vscode": {
      "interpreter": {
        "hash": "88279d2366fe020547cde40dd65aa0e3aa662a6ec1f3ca12d88834876c85e1a6"
      }
    },
    "colab": {
      "provenance": []
    }
  },
  "nbformat": 4,
  "nbformat_minor": 5
}